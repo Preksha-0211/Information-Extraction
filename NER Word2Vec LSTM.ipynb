{
 "cells": [
  {
   "cell_type": "code",
   "execution_count": null,
   "metadata": {},
   "outputs": [],
   "source": [
    "# Import necessary libraries\n",
    "import pandas as pd\n",
    "import numpy as np\n",
    "import matplotlib.pyplot as plt\n",
    "import seaborn as sns\n",
    "from sklearn.model_selection import train_test_split, train_test_split\n",
    "from sklearn.metrics import classification_report, confusion_matrix\n",
    "from gensim.models import KeyedVectors\n",
    "from tensorflow.keras.models import Sequential\n",
    "from tensorflow.keras.layers import Embedding, SpatialDropout1D, LSTM, Bidirectional, TimeDistributed, Dense\n",
    "from tensorflow.keras.callbacks import EarlyStopping, ModelCheckpoint\n",
    "from tensorflow.keras.preprocessing.sequence import pad_sequences\n",
    "import nltk\n",
    "from collections import Counter\n",
    "from tensorflow.keras.utils import to_categorical\n",
    "from sklearn.preprocessing import LabelEncoder\n",
    "from gensim.models import KeyedVectors\n",
    "from huggingface_hub import hf_hub_download\n",
    "np.random.seed(42)"
   ]
  },
  {
   "cell_type": "code",
   "execution_count": null,
   "metadata": {},
   "outputs": [],
   "source": [
    "# Load the dataset\n",
    "file_path = 'Classified_data.csv'\n",
    "data = pd.read_csv(file_path, sep=',', usecols=['Text', 'Tag', 'sentence_number', 'Word'])\n",
    "print(data.head())\n",
    "print(\"Data shape:\", data.shape)\n"
   ]
  },
  {
   "cell_type": "markdown",
   "metadata": {},
   "source": [
    "The ContextNER class encapsulates the preprocessing needed for NER tasks, making it easier to prepare the data for training with neural network models"
   ]
  },
  {
   "cell_type": "code",
   "execution_count": null,
   "metadata": {},
   "outputs": [],
   "source": [
    "class ContextNER:\n",
    "    # Class attributes for storing processed data and mappings\n",
    "    __X, __y = None, None  # Private attributes to store the raw sentences and tags\n",
    "    X_array, y_array = None, None  # Arrays to store processed and padded data\n",
    "    word2idx, idx2word = None, None  # Mappings from words to indices and vice versa\n",
    "    tag2idx, idx2tag = None, None  # Mappings from tags to indices and vice versa\n",
    "    y_array_normal = None  # Store non-categorical y array\n",
    "\n",
    "    def __init__(self, df, all_Words, max_len=None):\n",
    "        # Constructor to initialize the object with the dataframe and all unique words\n",
    "        self.__df = df  \n",
    "        self.all_words = set(all_words)  \n",
    "        self.all_tags = set(df.Tag.values)  \n",
    "        self.sentences = self.__build_sentences()  \n",
    "        self.num_words = len(self.all_words) + 2 \n",
    "        self.num_tags = len(self.all_tags) + 1 \n",
    "        self.max_len = max_len if max_len else self._get_maxlen() \n",
    "        self.__build_Xy()  \n",
    "        self.__build_parsers()  \n",
    "        self.__parser_arrays() \n",
    "\n",
    "    def _get_maxlen(self):\n",
    "        # Calculate the maximum sentence length\n",
    "        return max([len(x) for x in self.sentences]) + 1\n",
    "\n",
    "    def __build_sentences(self):\n",
    "        # Extract sentences as lists of (word, tag) tuples from the dataframe\n",
    "        return [x for x in self.__df.groupby('Word').apply(\n",
    "            lambda xdef: [x for x in zip(\n",
    "                xdef.Word.values,\n",
    "                xdef.Tag.values\n",
    "            )]\n",
    "        )]\n",
    "\n",
    "    def __build_Xy(self):\n",
    "        # Prepare the X and y data matrices by extracting words and tags\n",
    "        self.__X = [[word for word, __ in value] for value in self.sentences]\n",
    "        self.__y = [[tag for __, tag in value] for value in self.sentences]\n",
    "\n",
    "    def __build_parsers(self):\n",
    "        # Create mappings from words and tags to indices and vice versa\n",
    "        self.word2idx = {value: idx + 2 for idx, value in enumerate(self.all_words)}\n",
    "        self.word2idx[\"UNK\"] = 1  # Unknown words\n",
    "        self.word2idx[\"PAD\"] = 0  # Padding\n",
    "        self.idx2word = {idx: value for value, idx in self.word2idx.items()}\n",
    "        self.tag2idx = {value: idx + 1 for idx, value in enumerate(self.all_tags)}\n",
    "        self.tag2idx[\"PAD\"] = 0  # Padding for tags\n",
    "        self.idx2tag = {idx: value for value, idx in self.tag2idx.items()}\n",
    "\n",
    "    def parser2categorical(self, y_pred, y_true):\n",
    "        # Convert predictions and true values from indices to tags\n",
    "        pred_tag = [[self.idx2tag[idx] for idx in row] for row in y_pred]\n",
    "        y_true_tag = [[self.idx2tag[idx] for idx in row] for row in y_true]\n",
    "        return pred_tag, y_true_tag\n",
    "\n",
    "    def __parser_arrays(self):\n",
    "        # Convert word sequences to index sequences and pad them\n",
    "        tmp_X = [[self.word2idx[index] for index in value] for value in self.__X]\n",
    "        tmp_y = [[self.tag2idx[index] for index in value] for value in self.__y]\n",
    "        self.X_array = pad_sequences(maxlen=self.max_len, sequences=tmp_X, padding=\"post\", value=0)\n",
    "        y_pad = pad_sequences(maxlen=self.max_len, sequences=tmp_y, padding=\"post\", value=0)\n",
    "        self.y_array_normal = y_pad\n",
    "        self.y_array = np.array([to_categorical(index, num_classes=self.num_tags, dtype='int8') for index in y_pad])\n",
    "\n",
    "all_words = data['Word'].tolist()  # Extract all words\n",
    "ner_aux = ContextNER(data, data.Word.to_list())\n",
    "\n"
   ]
  },
  {
   "cell_type": "code",
   "execution_count": null,
   "metadata": {},
   "outputs": [],
   "source": [
    "ner_aux.tag2idx"
   ]
  },
  {
   "cell_type": "code",
   "execution_count": null,
   "metadata": {},
   "outputs": [],
   "source": [
    "ner_aux.idx2tag"
   ]
  },
  {
   "cell_type": "code",
   "execution_count": null,
   "metadata": {},
   "outputs": [],
   "source": [
    "ner_aux.word2idx"
   ]
  },
  {
   "cell_type": "code",
   "execution_count": null,
   "metadata": {},
   "outputs": [],
   "source": [
    "data['Tag'].value_counts()"
   ]
  },
  {
   "cell_type": "markdown",
   "metadata": {},
   "source": [
    "## Train-Test split"
   ]
  },
  {
   "cell_type": "code",
   "execution_count": null,
   "metadata": {},
   "outputs": [],
   "source": [
    "# Preparing the data for training\n",
    "X_TRAIN, X_TEST, Y_TRAIN, Y_TEST = train_test_split(\n",
    "    ner_aux.X_array, ner_aux.y_array_normal, test_size=0.3, random_state=42\n",
    ")\n",
    "print(X_TRAIN.shape, Y_TRAIN.shape, X_TEST.shape, Y_TEST.shape)"
   ]
  },
  {
   "cell_type": "code",
   "execution_count": null,
   "metadata": {},
   "outputs": [],
   "source": [
    "# Load the pre-trained word embeddings\n",
    "word_vectors = KeyedVectors.load_word2vec_format(\n",
    "    hf_hub_download(repo_id=\"Word2vec/german_model\", filename=\"german.model\"), \n",
    "    binary=True, \n",
    "    unicode_errors=\"ignore\"\n",
    ")"
   ]
  },
  {
   "cell_type": "code",
   "execution_count": null,
   "metadata": {},
   "outputs": [],
   "source": [
    "# # Hyperparameters\n",
    "EMBEDDING_DIM = word_vectors.vector_size\n",
    "HIDDEN_DIM = 64  # This can be adjusted\n",
    "OUTPUT_DIM = len(ner_aux.tag2idx)  # Number of tags\n",
    "\n",
    "# Create a weight matrix for words in training docs\n",
    "embedding_matrix = np.zeros((len(ner_aux.word2idx), EMBEDDING_DIM))\n",
    "for word, i in ner_aux.word2idx.items():\n",
    "    try:\n",
    "        embedding_vector = word_vectors[word]\n",
    "        if embedding_vector is not None:\n",
    "            embedding_matrix[i] = embedding_vector\n",
    "    except:\n",
    "        pass  # If word not in Word2Vec, it remains as a vector of zeros\n"
   ]
  },
  {
   "cell_type": "code",
   "execution_count": null,
   "metadata": {},
   "outputs": [],
   "source": [
    "# Define the model architecture\n",
    "model = Sequential()\n",
    "model.add(Embedding(input_dim=len(ner_aux.word2idx),\n",
    "                    output_dim=EMBEDDING_DIM,\n",
    "                    weights=[embedding_matrix],\n",
    "                    input_length=ner_aux.max_len,\n",
    "                    trainable=True))\n",
    "model.add(SpatialDropout1D(0.1))\n",
    "model.add(Bidirectional(LSTM(units=50, return_sequences=True)))\n",
    "model.add(TimeDistributed(Dense(len(ner_aux.tag2idx), activation=\"softmax\")))\n",
    "\n",
    "# Compile the model\n",
    "model.compile(optimizer='rmsprop', loss='sparse_categorical_crossentropy', metrics=['accuracy'])\n",
    "\n"
   ]
  },
  {
   "cell_type": "code",
   "execution_count": null,
   "metadata": {},
   "outputs": [],
   "source": [
    "# Convert labels to categorical\n",
    "Y_TRAIN = pad_sequences(Y_TRAIN, maxlen=ner_aux.max_len, padding='post')\n",
    "Y_TEST = pad_sequences(Y_TEST, maxlen=ner_aux.max_len, padding='post')\n"
   ]
  },
  {
   "cell_type": "code",
   "execution_count": null,
   "metadata": {},
   "outputs": [],
   "source": [
    "# For monitoring validation loss\n",
    "es = EarlyStopping(monitor='val_loss', mode='min', patience=5, verbose=1)\n",
    "mc = ModelCheckpoint('best_Word2Vec_model.h5', monitor='val_loss', mode='min', save_best_only=True, verbose=1)\n"
   ]
  },
  {
   "cell_type": "code",
   "execution_count": null,
   "metadata": {},
   "outputs": [],
   "source": [
    "# Train the model\n",
    "history = model.fit(\n",
    "    X_TRAIN, Y_TRAIN,\n",
    "    validation_data=(X_TEST, Y_TEST),\n",
    "    batch_size=64,\n",
    "    epochs=50,\n",
    "    verbose=1,\n",
    "    callbacks=[es, mc]\n",
    ")"
   ]
  },
  {
   "cell_type": "code",
   "execution_count": null,
   "metadata": {},
   "outputs": [],
   "source": [
    "\n"
   ]
  },
  {
   "cell_type": "code",
   "execution_count": null,
   "metadata": {},
   "outputs": [],
   "source": [
    "# Access the history to get training and validation loss and accuracy\n",
    "train_losses = history.history['loss']\n",
    "train_accuracies = history.history['accuracy']\n",
    "val_losses = history.history['val_loss']\n",
    "val_accuracies = history.history['val_accuracy']\n",
    "\n",
    "# Plot training & validation loss values\n",
    "plt.plot(train_losses)\n",
    "plt.plot(val_losses)\n",
    "plt.title('Model loss')\n",
    "plt.ylabel('Loss')\n",
    "plt.xlabel('Epoch')\n",
    "plt.legend(['Train', 'Validation'], loc='upper left')\n",
    "plt.show()"
   ]
  },
  {
   "cell_type": "code",
   "execution_count": null,
   "metadata": {},
   "outputs": [],
   "source": [
    "# Plot the training and validation accuracy\n",
    "plt.plot(history.history['accuracy'], label='Training Accuracy')\n",
    "plt.plot(history.history['val_accuracy'], label='Validation Accuracy')\n",
    "plt.title('Training and Validation Accuracy')\n",
    "plt.xlabel('Epoch')\n",
    "plt.ylabel('Accuracy')\n",
    "plt.legend()\n",
    "plt.show()"
   ]
  },
  {
   "cell_type": "code",
   "execution_count": null,
   "metadata": {},
   "outputs": [],
   "source": [
    "# Predict and flatten the output\n",
    "predictions = model.predict(X_TEST)\n",
    "y_pred_flat = np.argmax(predictions, axis=-1).flatten()\n",
    "y_test_flat = Y_TEST.flatten()\n",
    "\n",
    "# Filter out 'PAD' tokens for the classification report\n",
    "non_pad_elements = y_test_flat != ner_aux.tag2idx['PAD']  # Assuming 'PAD' is mapped to 0\n",
    "y_pred_flat = y_pred_flat[non_pad_elements]\n",
    "y_test_flat = y_test_flat[non_pad_elements]\n",
    "\n",
    "# Convert the index-based predictions and true values to their actual tags\n",
    "y_pred_tags = [ner_aux.idx2tag[i] for i in y_pred_flat]\n",
    "y_test_tags = [ner_aux.idx2tag[i] for i in y_test_flat]\n",
    "\n",
    "# Print classification report\n",
    "print(classification_report(y_test_tags, y_pred_tags))"
   ]
  },
  {
   "cell_type": "code",
   "execution_count": null,
   "metadata": {},
   "outputs": [],
   "source": [
    "from sklearn.metrics import confusion_matrix\n",
    "\n",
    "# Generate the confusion matrix\n",
    "cm = confusion_matrix(y_test_tags, y_pred_tags, labels=list(ner_aux.tag2idx.keys()))\n",
    "\n",
    "# Create a DataFrame from the confusion matrix for better labeling in the heatmap\n",
    "cm_df = pd.DataFrame(cm, index=ner_aux.tag2idx.keys(), columns=ner_aux.tag2idx.keys())\n",
    "\n",
    "# Plot the heatmap\n",
    "plt.figure(figsize=(12, 12))\n",
    "sns.heatmap(cm_df, annot=True, fmt='g')\n",
    "plt.title('Confusion Matrix for NER Entities')\n",
    "plt.ylabel('Actual Labels')\n",
    "plt.xlabel('Predicted Labels')\n",
    "plt.show()"
   ]
  }
 ],
 "metadata": {
  "kernelspec": {
   "display_name": "Python 3",
   "language": "python",
   "name": "python3"
  },
  "language_info": {
   "codemirror_mode": {
    "name": "ipython",
    "version": 3
   },
   "file_extension": ".py",
   "mimetype": "text/x-python",
   "name": "python",
   "nbconvert_exporter": "python",
   "pygments_lexer": "ipython3",
   "version": "3.9.13"
  }
 },
 "nbformat": 4,
 "nbformat_minor": 2
}
