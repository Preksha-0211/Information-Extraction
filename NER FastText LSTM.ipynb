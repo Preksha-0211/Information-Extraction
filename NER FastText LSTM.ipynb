{
 "cells": [
  {
   "cell_type": "code",
   "execution_count": null,
   "metadata": {},
   "outputs": [],
   "source": [
    "# Import necessary libraries\n",
    "import pandas as pd\n",
    "import numpy as np\n",
    "import matplotlib.pyplot as plt\n",
    "import seaborn as sns\n",
    "from sklearn.model_selection import train_test_split, train_test_split\n",
    "from sklearn.metrics import classification_report, confusion_matrix\n",
    "from gensim.models import KeyedVectors\n",
    "from tensorflow.keras.models import Sequential\n",
    "from tensorflow.keras.layers import Embedding, SpatialDropout1D, LSTM, Bidirectional, TimeDistributed, Dense\n",
    "from tensorflow.keras.callbacks import EarlyStopping, ModelCheckpoint\n",
    "from tensorflow.keras.preprocessing.sequence import pad_sequences\n",
    "import nltk\n",
    "from collections import Counter\n",
    "from tensorflow.keras.utils import to_categorical\n",
    "from sklearn.preprocessing import LabelEncoder\n",
    "from gensim.models import KeyedVectors\n",
    "from huggingface_hub import hf_hub_download\n",
    "from tqdm import tqdm\n",
    "from time import sleep\n",
    "\n",
    "np.random.seed(42)\n",
    "\n"
   ]
  },
  {
   "cell_type": "code",
   "execution_count": null,
   "metadata": {},
   "outputs": [],
   "source": [
    "# Load the dataset\n",
    "file_path = 'Classified_data.csv'\n",
    "data = pd.read_csv(file_path, sep=',', usecols=['Text', 'Tag', 'sentence_number', 'Word'])\n",
    "print(data.head())\n",
    "print(\"Data shape:\", data.shape)\n"
   ]
  },
  {
   "cell_type": "code",
   "execution_count": null,
   "metadata": {},
   "outputs": [],
   "source": [
    "#The ContextNER class encapsulates the preprocessing needed for NER tasks, making it easier to prepare the data for training with neural network models\n",
    "class ContextNER:\n",
    "    # Class attributes for storing processed data and mappings\n",
    "    __X, __y = None, None  # Private attributes to store the raw sentences and tags\n",
    "    X_array, y_array = None, None  # Arrays to store processed and padded data\n",
    "    word2idx, idx2word = None, None  # Mappings from words to indices and vice versa\n",
    "    tag2idx, idx2tag = None, None  # Mappings from tags to indices and vice versa\n",
    "    y_array_normal = None  # Store non-categorical y array\n",
    "\n",
    "    def __init__(self, df, all_Words, max_len=None):\n",
    "        # Constructor to initialize the object with the dataframe and all unique words\n",
    "        self.__df = df  \n",
    "        self.all_words = set(all_words)  \n",
    "        self.all_tags = set(df.Tag.values)  \n",
    "        self.sentences = self.__build_sentences()  \n",
    "        self.num_words = len(self.all_words) + 2 \n",
    "        self.num_tags = len(self.all_tags) + 1 \n",
    "        self.max_len = max_len if max_len else self._get_maxlen() \n",
    "        self.__build_Xy()  \n",
    "        self.__build_parsers()  \n",
    "        self.__parser_arrays() \n",
    "\n",
    "    def _get_maxlen(self):\n",
    "        # Calculate the maximum sentence length\n",
    "        return max([len(x) for x in self.sentences]) + 1\n",
    "\n",
    "    def __build_sentences(self):\n",
    "        # Extract sentences as lists of (word, tag) tuples from the dataframe\n",
    "        return [x for x in self.__df.groupby('Word').apply(\n",
    "            lambda xdef: [x for x in zip(\n",
    "                xdef.Word.values,\n",
    "                xdef.Tag.values\n",
    "            )]\n",
    "        )]\n",
    "\n",
    "    def __build_Xy(self):\n",
    "        # Prepare the X and y data matrices by extracting words and tags\n",
    "        self.__X = [[word for word, __ in value] for value in self.sentences]\n",
    "        self.__y = [[tag for __, tag in value] for value in self.sentences]\n",
    "\n",
    "    def __build_parsers(self):\n",
    "        # Create mappings from words and tags to indices and vice versa\n",
    "        self.word2idx = {value: idx + 2 for idx, value in enumerate(self.all_words)}\n",
    "        self.word2idx[\"UNK\"] = 1  # Unknown words\n",
    "        self.word2idx[\"PAD\"] = 0  # Padding\n",
    "        self.idx2word = {idx: value for value, idx in self.word2idx.items()}\n",
    "        self.tag2idx = {value: idx + 1 for idx, value in enumerate(self.all_tags)}\n",
    "        self.tag2idx[\"PAD\"] = 0  # Padding for tags\n",
    "        self.idx2tag = {idx: value for value, idx in self.tag2idx.items()}\n",
    "\n",
    "    def parser2categorical(self, y_pred, y_true):\n",
    "        # Convert predictions and true values from indices to tags\n",
    "        pred_tag = [[self.idx2tag[idx] for idx in row] for row in y_pred]\n",
    "        y_true_tag = [[self.idx2tag[idx] for idx in row] for row in y_true]\n",
    "        return pred_tag, y_true_tag\n",
    "\n",
    "    def __parser_arrays(self):\n",
    "        # Convert word sequences to index sequences and pad them\n",
    "        tmp_X = [[self.word2idx[index] for index in value] for value in self.__X]\n",
    "        tmp_y = [[self.tag2idx[index] for index in value] for value in self.__y]\n",
    "        self.X_array = pad_sequences(maxlen=self.max_len, sequences=tmp_X, padding=\"post\", value=0)\n",
    "        y_pad = pad_sequences(maxlen=self.max_len, sequences=tmp_y, padding=\"post\", value=0)\n",
    "        self.y_array_normal = y_pad\n",
    "        self.y_array = np.array([to_categorical(index, num_classes=self.num_tags, dtype='int8') for index in y_pad])\n",
    "\n",
    "def build_matrix_embeddings(path, num_tokens, embedding_dim, word_index):\n",
    "    \"\"\"\n",
    "        Function to load pre-trained files into memory\n",
    "        \n",
    "    \"\"\"\n",
    "\n",
    "    hits, misses = 0, 0\n",
    "    embeddings_index = {}\n",
    "\n",
    "    print('Loading file...')\n",
    "    sleep(0.5)\n",
    "    \n",
    "    for line in tqdm(open(path, encoding='utf-8')):\n",
    "        word, coefs = line.split(maxsplit=1)\n",
    "        embeddings_index[word] = np.fromstring(coefs, \"f\", sep=\" \")\n",
    "    print(\"Found %s Word Vectors.\" % len(embeddings_index))\n",
    "    sleep(0.5)\n",
    "    \n",
    "    # Prepare embedding matrix\n",
    "    embedding_matrix = np.zeros((num_tokens, embedding_dim))\n",
    "\n",
    "    for word, i in tqdm(word_index.items()):\n",
    "        if i >= num_tokens:\n",
    "            continue\n",
    "        try:\n",
    "            embedding_vector = embeddings_index.get(word)\n",
    "            if embedding_vector is not None:\n",
    "                embedding_matrix[i] = embedding_vector\n",
    "                hits += 1\n",
    "            else:\n",
    "                embedding_vector = embeddings_index.get(str(word).lower())\n",
    "                if embedding_vector is not None:\n",
    "                    embedding_matrix[i] = embedding_vector\n",
    "                    hits += 1\n",
    "                else:\n",
    "                    embedding_vector = embeddings_index.get(str(word).upper())\n",
    "                    if embedding_vector is not None:\n",
    "                        embedding_matrix[i] = embedding_vector\n",
    "                        hits += 1\n",
    "                misses += 1\n",
    "        except:\n",
    "            embedding_matrix[i] = embeddings_index.get('UNK')\n",
    "\n",
    "    print(\"Converted: %d Tokens | Lost: %d Tokens\" % (hits, misses))\n",
    "\n",
    "    return embedding_matrix\n",
    "\n",
    "all_words = data['Word'].tolist()  # Extract all unique words\n",
    "max_length = 64  # You can specify a maximum sentence length if needed\n",
    "\n",
    "ner_aux = ContextNER(data, data.Word.to_list())"
   ]
  },
  {
   "cell_type": "markdown",
   "metadata": {},
   "source": [
    "## Train-Test Split"
   ]
  },
  {
   "cell_type": "code",
   "execution_count": null,
   "metadata": {},
   "outputs": [],
   "source": [
    "\n",
    "# Preparing the data for training\n",
    "X_TRAIN, X_TEST, Y_TRAIN, Y_TEST = train_test_split(\n",
    "    ner_aux.X_array, ner_aux.y_array_normal, test_size=0.3, random_state=42\n",
    ")"
   ]
  },
  {
   "cell_type": "code",
   "execution_count": null,
   "metadata": {},
   "outputs": [],
   "source": [
    "print(X_TEST.shape)\n",
    "print(X_TRAIN.shape)\n",
    "print(Y_TEST.shape)\n",
    "print(Y_TRAIN.shape)\n"
   ]
  },
  {
   "cell_type": "code",
   "execution_count": null,
   "metadata": {},
   "outputs": [],
   "source": [
    "embedding_dim = 300  # Adjust as per your embeddings\n",
    "ft_embeddings = build_matrix_embeddings(\n",
    "    path='cc.de.300.vec/cc.de.300.vec',\n",
    "    num_tokens=ner_aux.num_words,\n",
    "    embedding_dim=embedding_dim,\n",
    "    word_index=ner_aux.word2idx\n",
    ")"
   ]
  },
  {
   "cell_type": "code",
   "execution_count": null,
   "metadata": {},
   "outputs": [],
   "source": [
    "# Define the model architecture\n",
    "model = Sequential()\n",
    "model.add(Embedding(input_dim=len(ner_aux.word2idx),\n",
    "                    output_dim=embedding_dim,\n",
    "                    weights=[ft_embeddings],\n",
    "                    input_length=ner_aux.max_len,\n",
    "                    trainable=True))\n",
    "model.add(SpatialDropout1D(0.2))\n",
    "model.add(Bidirectional(LSTM(units=50, return_sequences=True)))\n",
    "model.add(TimeDistributed(Dense(len(ner_aux.tag2idx), activation=\"softmax\")))\n",
    "\n",
    "# Compile the model\n",
    "model.compile(optimizer='adam', loss='sparse_categorical_crossentropy', metrics=['accuracy'])\n"
   ]
  },
  {
   "cell_type": "code",
   "execution_count": null,
   "metadata": {},
   "outputs": [],
   "source": [
    "num_unique_tags = len(np.unique(data['Tag']))\n",
    "print(\"Number of unique tags:\", num_unique_tags)\n",
    "\n",
    "print(ner_aux.tag2idx)\n"
   ]
  },
  {
   "cell_type": "code",
   "execution_count": null,
   "metadata": {},
   "outputs": [],
   "source": [
    "# For monitoring validation loss\n",
    "es = EarlyStopping(monitor='val_loss', mode='min', patience=5, verbose=1)\n",
    "mc = ModelCheckpoint('best_FastText_model.h5', monitor='val_loss', mode='min', save_best_only=True, verbose=1)\n"
   ]
  },
  {
   "cell_type": "code",
   "execution_count": null,
   "metadata": {},
   "outputs": [],
   "source": [
    "# Train the model\n",
    "history = model.fit(\n",
    "    X_TRAIN, Y_TRAIN,\n",
    "    #class_weight = class_weights_dict,\n",
    "    validation_data=(X_TEST, Y_TEST),\n",
    "    batch_size=64,\n",
    "    epochs=10,\n",
    "    verbose=2,\n",
    "    callbacks=[es, mc]\n",
    ")"
   ]
  },
  {
   "cell_type": "code",
   "execution_count": null,
   "metadata": {},
   "outputs": [],
   "source": [
    "# Access the history to get training and validation loss and accuracy\n",
    "train_losses = history.history['loss']\n",
    "train_accuracies = history.history['accuracy']\n",
    "val_losses = history.history['val_loss']\n",
    "val_accuracies = history.history['val_accuracy']\n",
    "\n",
    "# Plot training & validation loss values\n",
    "plt.plot(train_losses)\n",
    "plt.plot(val_losses)\n",
    "plt.title('Model loss')\n",
    "plt.ylabel('Loss')\n",
    "plt.xlabel('Epoch')\n",
    "plt.legend(['Train', 'Validation'], loc='upper left')\n",
    "plt.show()"
   ]
  },
  {
   "cell_type": "code",
   "execution_count": null,
   "metadata": {},
   "outputs": [],
   "source": [
    "# Plot the training and validation accuracy\n",
    "plt.plot(history.history['accuracy'], label='Training Accuracy')\n",
    "plt.plot(history.history['val_accuracy'], label='Validation Accuracy')\n",
    "plt.title('Training and Validation Accuracy')\n",
    "plt.xlabel('Epoch')\n",
    "plt.ylabel('Accuracy')\n",
    "plt.legend()\n",
    "plt.show()"
   ]
  },
  {
   "cell_type": "markdown",
   "metadata": {},
   "source": [
    "## classification report"
   ]
  },
  {
   "cell_type": "code",
   "execution_count": null,
   "metadata": {},
   "outputs": [],
   "source": [
    "# Predict and flatten the output\n",
    "predictions = model.predict(X_TEST)\n",
    "y_pred_flat = np.argmax(predictions, axis=-1).flatten()\n",
    "y_test_flat = Y_TEST.flatten()\n",
    "\n",
    "# Filter out 'PAD' tokens for the classification report\n",
    "non_pad_elements = y_test_flat != ner_aux.tag2idx['PAD']  # Assuming 'PAD' is mapped to 0\n",
    "y_pred_flat = y_pred_flat[non_pad_elements]\n",
    "y_test_flat = y_test_flat[non_pad_elements]\n",
    "\n",
    "# Convert the index-based predictions and true values to their actual tags\n",
    "y_pred_tags = [ner_aux.idx2tag[i] for i in y_pred_flat]\n",
    "y_test_tags = [ner_aux.idx2tag[i] for i in y_test_flat]\n",
    "\n",
    "# Print classification report\n",
    "print(classification_report(y_test_tags, y_pred_tags))"
   ]
  },
  {
   "cell_type": "markdown",
   "metadata": {},
   "source": [
    "## Confusion Matrix"
   ]
  },
  {
   "cell_type": "code",
   "execution_count": null,
   "metadata": {},
   "outputs": [],
   "source": [
    "from sklearn.metrics import confusion_matrix\n",
    "\n",
    "# Generate the confusion matrix\n",
    "cm = confusion_matrix(y_test_tags, y_pred_tags, labels=list(ner_aux.tag2idx.keys()))\n",
    "\n",
    "# Create a DataFrame from the confusion matrix for better labeling in the heatmap\n",
    "cm_df = pd.DataFrame(cm, index=ner_aux.tag2idx.keys(), columns=ner_aux.tag2idx.keys())\n",
    "\n",
    "# Plot the heatmap\n",
    "plt.figure(figsize=(12, 12))\n",
    "sns.heatmap(cm_df, annot=True, fmt='g')\n",
    "plt.title('Confusion Matrix for NER Entities')\n",
    "plt.ylabel('Actual Labels')\n",
    "plt.xlabel('Predicted Labels')\n",
    "plt.show()"
   ]
  }
 ],
 "metadata": {
  "kernelspec": {
   "display_name": "Python 3",
   "language": "python",
   "name": "python3"
  },
  "language_info": {
   "codemirror_mode": {
    "name": "ipython",
    "version": 3
   },
   "file_extension": ".py",
   "mimetype": "text/x-python",
   "name": "python",
   "nbconvert_exporter": "python",
   "pygments_lexer": "ipython3",
   "version": "3.9.13"
  }
 },
 "nbformat": 4,
 "nbformat_minor": 2
}
