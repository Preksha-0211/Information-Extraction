{
 "cells": [
  {
   "cell_type": "code",
   "execution_count": null,
   "metadata": {},
   "outputs": [],
   "source": [
    "# Essential imports\n",
    "import pandas as pd\n",
    "from sklearn.feature_extraction.text import TfidfVectorizer\n",
    "from sklearn.model_selection import train_test_split\n",
    "from sklearn.metrics import classification_report\n",
    "from sklearn.svm import SVC\n",
    "from sklearn.linear_model import LogisticRegression\n",
    "from sklearn.naive_bayes import MultinomialNB"
   ]
  },
  {
   "cell_type": "code",
   "execution_count": null,
   "metadata": {},
   "outputs": [],
   "source": [
    "# Manually annoted sample dataset for classification\n",
    "# Load the dataset\n",
    "file_path = 'label_data_1.csv'\n",
    "data = pd.read_csv(file_path, encoding='latin1', delimiter=',', usecols=['condition', 'Text', 'Tag', 'Word', 'sentence_number'])\n"
   ]
  },
  {
   "cell_type": "code",
   "execution_count": null,
   "metadata": {},
   "outputs": [],
   "source": [
    "# Preprocess the data\n",
    "label_data = pd.read_csv(file_path, encoding='ISO-8859-1', delimiter=',')\n",
    "unique_label_data = label_data[['Text', 'condition']].drop_duplicates()\n",
    "unique_label_data.dropna(subset=['condition'], inplace=True)\n",
    "unique_label_data['condition'] = unique_label_data['condition'].astype(int)\n",
    "unique_label_data['Text'] = unique_label_data['Text'].str.replace('[^a-zA-Z0-9 ]', ' ').str.lower()"
   ]
  },
  {
   "cell_type": "code",
   "execution_count": null,
   "metadata": {},
   "outputs": [],
   "source": [
    "# Display data information\n",
    "print('Data Head:', data.head())\n",
    "print('Data datatype:', data.dtypes)\n",
    "print('Data Shape:', data.shape)\n",
    "print(unique_label_data['condition'].value_counts())"
   ]
  },
  {
   "cell_type": "code",
   "execution_count": null,
   "metadata": {},
   "outputs": [],
   "source": [
    "# Feature extraction using TF-IDF\n",
    "tfidf_vectorizer = TfidfVectorizer()\n",
    "X = tfidf_vectorizer.fit_transform(unique_label_data['Text'])\n",
    "y = unique_label_data['condition']\n"
   ]
  },
  {
   "cell_type": "code",
   "execution_count": null,
   "metadata": {},
   "outputs": [],
   "source": [
    "# Train-test split\n",
    "X_train, X_test, y_train, y_test = train_test_split(X, y, test_size=0.3, random_state=42)\n"
   ]
  },
  {
   "cell_type": "markdown",
   "metadata": {},
   "source": [
    "## Naive Bayes"
   ]
  },
  {
   "cell_type": "code",
   "execution_count": null,
   "metadata": {},
   "outputs": [],
   "source": [
    "# Naive Bayes model\n",
    "mnb = MultinomialNB().fit(X_train, y_train)\n",
    "y_pred_mnb = mnb.predict(X_test)\n",
    "print(\"Naive Bayes Classification Report:\")\n",
    "print(classification_report(y_test, y_pred_mnb))"
   ]
  },
  {
   "cell_type": "markdown",
   "metadata": {},
   "source": [
    "## Logistic regression"
   ]
  },
  {
   "cell_type": "code",
   "execution_count": null,
   "metadata": {},
   "outputs": [],
   "source": [
    "# Logistic Regression model\n",
    "lr = LogisticRegression(max_iter=2000, penalty='l2')\n",
    "lr.fit(X_train, y_train)\n",
    "predictions_lr = lr.predict(X_test)\n",
    "print(\"Logistic Regression Classification Report:\")\n",
    "print(classification_report(y_test, predictions_lr))"
   ]
  },
  {
   "cell_type": "markdown",
   "metadata": {},
   "source": [
    "## SVM for classification"
   ]
  },
  {
   "cell_type": "code",
   "execution_count": null,
   "metadata": {},
   "outputs": [],
   "source": [
    "# SVM model\n",
    "svm_model = SVC(kernel='linear', gamma=0.1, C=1)\n",
    "svm_model.fit(X_train, y_train)\n",
    "y_pred_svm = svm_model.predict(X_test)\n",
    "print(\"SVM Classification Report:\")\n",
    "print(classification_report(y_test, y_pred_svm))"
   ]
  },
  {
   "cell_type": "code",
   "execution_count": null,
   "metadata": {},
   "outputs": [],
   "source": [
    "# Apply the SVM model to new data and save the results\n",
    "data_new_path = 'Data.csv'  # Update the path if needed\n",
    "\n",
    "data_new = pd.read_csv(data_new_path, encoding='utf-8', delimiter=',')\n",
    "# data_new['Text'] = data_new['Text'].str.replace('[^a-zA-Z0-9 ]', ' ').str.lower()\n",
    "X_new = tfidf_vectorizer.transform(data_new['Text'])\n",
    "predictions_new = svm_model.predict(X_new)\n",
    "data_new['Predicted_Condition'] = predictions_new\n",
    "traffic_related_data_new = data_new[data_new['Predicted_Condition'] == 1]\n"
   ]
  },
  {
   "cell_type": "code",
   "execution_count": null,
   "metadata": {},
   "outputs": [],
   "source": [
    "# Save the results to a new CSV file\n",
    "output_new_data_file_path = 'Classified_data.csv'  # Update the path if needed\n",
    "traffic_related_data_new.to_csv(output_new_data_file_path, index=False)\n",
    "\n",
    "print(f\"Output CSV file created: {output_new_data_file_path}\")"
   ]
  },
  {
   "cell_type": "code",
   "execution_count": null,
   "metadata": {},
   "outputs": [],
   "source": [
    "new = pd.read_csv('Classified_data.csv')\n",
    "new.head(10)"
   ]
  },
  {
   "cell_type": "code",
   "execution_count": null,
   "metadata": {},
   "outputs": [],
   "source": [
    "new.shape"
   ]
  }
 ],
 "metadata": {
  "kernelspec": {
   "display_name": "Python 3",
   "language": "python",
   "name": "python3"
  },
  "language_info": {
   "codemirror_mode": {
    "name": "ipython",
    "version": 3
   },
   "file_extension": ".py",
   "mimetype": "text/x-python",
   "name": "python",
   "nbconvert_exporter": "python",
   "pygments_lexer": "ipython3",
   "version": "3.9.13"
  }
 },
 "nbformat": 4,
 "nbformat_minor": 2
}
